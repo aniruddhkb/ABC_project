{
 "cells": [
  {
   "cell_type": "code",
   "execution_count": 1,
   "metadata": {},
   "outputs": [],
   "source": [
    "import sys \n",
    "sys.path.append('./lib')"
   ]
  },
  {
   "cell_type": "code",
   "execution_count": 2,
   "metadata": {},
   "outputs": [],
   "source": [
    "from lib import * \n",
    "import networkx as nx \n",
    "import random "
   ]
  },
  {
   "cell_type": "code",
   "execution_count": 3,
   "metadata": {},
   "outputs": [],
   "source": [
    "#INIT: OUT\n",
    "# base_graph = nx.random_geometric_graph(200,0.25)\n",
    "base_graph = nx.fast_gnp_random_graph(200,0.015)\n",
    "beta = 1\n",
    "r = 2"
   ]
  },
  {
   "cell_type": "code",
   "execution_count": 4,
   "metadata": {},
   "outputs": [
    {
     "data": {
      "text/plain": [
       "323"
      ]
     },
     "execution_count": 4,
     "metadata": {},
     "output_type": "execute_result"
    }
   ],
   "source": [
    "len(base_graph.edges)"
   ]
  },
  {
   "cell_type": "code",
   "execution_count": 5,
   "metadata": {},
   "outputs": [],
   "source": [
    "# INIT_IN\n",
    "R = set(base_graph.nodes()) \n",
    "U = R.copy()\n",
    "Y = []\n",
    "\n",
    "source_vert = random.choice(list(base_graph.nodes())) \n",
    "\n"
   ]
  },
  {
   "cell_type": "code",
   "execution_count": null,
   "metadata": {},
   "outputs": [
    {
     "ename": "AssertionError",
     "evalue": "",
     "output_type": "error",
     "traceback": [
      "\u001b[0;31m---------------------------------------------------------------------------\u001b[0m",
      "\u001b[0;31mAssertionError\u001b[0m                            Traceback (most recent call last)",
      "Cell \u001b[0;32mIn[8], line 31\u001b[0m\n\u001b[1;32m     28\u001b[0m             \u001b[38;5;28;01mbreak\u001b[39;00m\n\u001b[1;32m     29\u001b[0m     \u001b[38;5;28;01mreturn\u001b[39;00m phi_y, y, phi_z, z\n\u001b[0;32m---> 31\u001b[0m \u001b[43mcluster\u001b[49m\u001b[43m(\u001b[49m\u001b[43mR\u001b[49m\u001b[43m,\u001b[49m\u001b[43m \u001b[49m\u001b[43mU\u001b[49m\u001b[43m,\u001b[49m\u001b[43m \u001b[49m\u001b[43msource_vert\u001b[49m\u001b[43m,\u001b[49m\u001b[43mY\u001b[49m\u001b[43m,\u001b[49m\u001b[43m \u001b[49m\u001b[43mbase_graph\u001b[49m\u001b[43m,\u001b[49m\u001b[43m \u001b[49m\u001b[43mr\u001b[49m\u001b[43m,\u001b[49m\u001b[43m \u001b[49m\u001b[43mbeta\u001b[49m\u001b[43m)\u001b[49m\n",
      "Cell \u001b[0;32mIn[8], line 15\u001b[0m, in \u001b[0;36mcluster\u001b[0;34m(R, U, source_vert, Y, base_graph, r, beta)\u001b[0m\n\u001b[1;32m     12\u001b[0m     \u001b[38;5;28;01mif\u001b[39;00m node \u001b[38;5;129;01mnot\u001b[39;00m \u001b[38;5;129;01min\u001b[39;00m Y_union:\n\u001b[1;32m     13\u001b[0m         base_ybar_graph\u001b[38;5;241m.\u001b[39mremove_node(node) \n\u001b[0;32m---> 15\u001b[0m z  \u001b[38;5;241m=\u001b[39m \u001b[38;5;28mset\u001b[39m(\u001b[43mBFSAlgo\u001b[49m\u001b[43m(\u001b[49m\u001b[43mbase_ybar_graph\u001b[49m\u001b[43m,\u001b[49m\u001b[43msource_vert\u001b[49m\u001b[43m,\u001b[49m\u001b[43mr\u001b[49m\u001b[43m,\u001b[49m\u001b[43m)\u001b[49m\u001b[38;5;241m.\u001b[39mbfs_graph\u001b[38;5;241m.\u001b[39mnodes) \n\u001b[1;32m     17\u001b[0m \u001b[38;5;28;01mwhile\u001b[39;00m \u001b[38;5;28;01mTrue\u001b[39;00m:\n\u001b[1;32m     18\u001b[0m     phi_y \u001b[38;5;241m=\u001b[39m phi_z\u001b[38;5;241m.\u001b[39mcopy() \n",
      "File \u001b[0;32m~/Desktop/ABC_project/code/lib/bfs.py:16\u001b[0m, in \u001b[0;36mBFSAlgo.__init__\u001b[0;34m(self, base_graph, start_node_arg, max_level, allowed_node_set)\u001b[0m\n\u001b[1;32m     14\u001b[0m \u001b[38;5;28;01melif\u001b[39;00m \u001b[38;5;28misinstance\u001b[39m(start_node_arg, \u001b[38;5;28mint\u001b[39m):\n\u001b[1;32m     15\u001b[0m     \u001b[38;5;28mself\u001b[39m\u001b[38;5;241m.\u001b[39mmulti \u001b[38;5;241m=\u001b[39m \u001b[38;5;28;01mFalse\u001b[39;00m\n\u001b[0;32m---> 16\u001b[0m     \u001b[38;5;28;01massert\u001b[39;00m start_node_arg \u001b[38;5;129;01min\u001b[39;00m base_graph\u001b[38;5;241m.\u001b[39mnodes\n\u001b[1;32m     17\u001b[0m     \u001b[38;5;28mself\u001b[39m\u001b[38;5;241m.\u001b[39mmulti_roots \u001b[38;5;241m=\u001b[39m (start_node_arg,)\n\u001b[1;32m     18\u001b[0m \u001b[38;5;28mself\u001b[39m\u001b[38;5;241m.\u001b[39mallowed_node_set \u001b[38;5;241m=\u001b[39m allowed_node_set\n",
      "\u001b[0;31mAssertionError\u001b[0m: "
     ]
    }
   ],
   "source": [
    "def cluster(R, U, source_vert,Y, base_graph, r, beta):\n",
    "\n",
    "\n",
    "    phi_z = set([source_vert,])\n",
    "    base_ybar_graph = base_graph.copy()\n",
    "    nodescpy = list(base_ybar_graph.nodes)\n",
    "    Y_union = set().union(*Y)\n",
    "    # vert = Y_union.pop()\n",
    "    # assert type(vert) == int \n",
    "    # Y_union.add(vert)\n",
    "    for node in nodescpy:\n",
    "        if node not in Y_union:\n",
    "            base_ybar_graph.remove_node(node) \n",
    "\n",
    "    z  = set(BFSAlgo(base_ybar_graph,source_vert,r,).bfs_graph.nodes) \n",
    "\n",
    "    while True:\n",
    "        phi_y = phi_z.copy() \n",
    "        y     = z.copy()\n",
    "        multiorig_algo = BFSAlgo(base_ybar_graph,y, 2*r)\n",
    "        z = set(multiorig_algo.bfs_graph.nodes)\n",
    "        phi_z = set([vert for vert in U if vert in z and multiorig_algo.bfs_graph.nodes[vert]['level'] <= r])\n",
    "\n",
    "        A1, A2 = len(z),len(y)*len(base_graph.nodes)**(1/beta)\n",
    "        B1, B2 = len(phi_z), len(phi_y)*len(R)**(1/beta)\n",
    "        C1, C2 = sum([i[1] for i in base_graph.degree(z)]), sum([i[1] for i in base_graph.degree(y)])*len(base_graph.nodes)**(1/beta)\n",
    "        if (A1 <= A2 and B1 <= B2 and C1 <= C2):\n",
    "            break\n",
    "    return phi_y, y, phi_z, z\n",
    "\n",
    "cluster(R, U, source_vert,Y, base_graph, r, beta)\n"
   ]
  },
  {
   "cell_type": "code",
   "execution_count": null,
   "metadata": {},
   "outputs": [],
   "source": []
  },
  {
   "cell_type": "code",
   "execution_count": 588,
   "metadata": {},
   "outputs": [
    {
     "name": "stdout",
     "output_type": "stream",
     "text": [
      "phi_z =  [1, 2, 4, 5, 7, 11, 13, 15, 16, 26, 27, 28, 30, 31, 45, 53, 56, 57, 60, 63, 66, 68, 71, 72, 73, 79, 83, 86, 89, 95, 98, 99, 103, 105, 106, 107, 114, 116, 120, 124, 126, 127, 128, 129, 131, 132, 137, 138, 143, 144, 145, 147, 148, 150, 151, 157, 158, 159, 160, 167, 170, 171, 173, 174, 176, 179, 181, 188, 191, 194, 195]\n",
      "z     =  [0, 1, 2, 4, 5, 6, 7, 8, 9, 11, 13, 14, 15, 16, 17, 18, 19, 21, 22, 23, 25, 26, 27, 28, 29, 30, 31, 34, 35, 36, 37, 38, 39, 40, 41, 42, 43, 45, 46, 47, 49, 50, 51, 52, 53, 54, 56, 57, 58, 60, 61, 62, 63, 64, 66, 67, 68, 69, 70, 71, 72, 73, 74, 76, 77, 78, 79, 82, 83, 86, 87, 88, 89, 90, 91, 92, 93, 94, 95, 96, 98, 99, 100, 101, 103, 104, 105, 106, 107, 108, 111, 112, 113, 114, 116, 117, 118, 119, 120, 122, 123, 124, 126, 127, 128, 129, 130, 131, 132, 133, 134, 135, 137, 138, 140, 143, 144, 145, 146, 147, 148, 150, 151, 152, 153, 154, 157, 158, 159, 160, 161, 162, 164, 166, 167, 169, 170, 171, 173, 174, 175, 176, 177, 178, 179, 180, 181, 182, 183, 184, 185, 186, 187, 188, 189, 190, 191, 192, 193, 194, 195, 196, 198, 199]\n",
      "phi_y =  [116]\n",
      "y     =  [5, 56, 95, 106, 116, 124, 127, 129, 137, 157, 167]\n",
      "A1 = 164, A2 = 2200.0, True\n",
      "B1 = 71, B2 = 200.0, True\n",
      "C1 = 526, C2 = 8400.0, True\n"
     ]
    }
   ],
   "source": [
    "print('phi_z = ',sorted(phi_z))\n",
    "print('z     = ',sorted(z))\n",
    "print('phi_y = ',sorted(phi_y))\n",
    "print('y     = ',sorted(y))\n",
    "\n",
    "print(f\"A1 = {A1}, A2 = {A2}, {A1 <= A2}\")\n",
    "print(f\"B1 = {B1}, B2 = {B2}, {B1 <= B2}\")\n",
    "print(f\"C1 = {C1}, C2 = {C2}, {C1 <= C2}\" ) \n"
   ]
  },
  {
   "cell_type": "code",
   "execution_count": 589,
   "metadata": {},
   "outputs": [
    {
     "data": {
      "text/plain": [
       "(11, 164)"
      ]
     },
     "execution_count": 589,
     "metadata": {},
     "output_type": "execute_result"
    }
   ],
   "source": [
    "len(y), len(z)"
   ]
  },
  {
   "cell_type": "code",
   "execution_count": null,
   "metadata": {},
   "outputs": [],
   "source": []
  },
  {
   "cell_type": "code",
   "execution_count": null,
   "metadata": {},
   "outputs": [],
   "source": []
  }
 ],
 "metadata": {
  "kernelspec": {
   "display_name": "3.13.0",
   "language": "python",
   "name": "python3"
  },
  "language_info": {
   "codemirror_mode": {
    "name": "ipython",
    "version": 3
   },
   "file_extension": ".py",
   "mimetype": "text/x-python",
   "name": "python",
   "nbconvert_exporter": "python",
   "pygments_lexer": "ipython3",
   "version": "3.13.0"
  }
 },
 "nbformat": 4,
 "nbformat_minor": 2
}
