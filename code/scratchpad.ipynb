{
 "cells": [
  {
   "cell_type": "code",
   "execution_count": null,
   "metadata": {},
   "outputs": [],
   "source": [
    "from dash import Dash, html, dcc, Input, Output, callback\n",
    "\n",
    "import plotly.graph_objects as go \n",
    "\n",
    "# import plotly.io as pio\n",
    "# pio.renderers.default = 'jupyterlab'\n",
    "\n",
    "import networkx as nx \n",
    "\n",
    "# G = nx.Graph()\n",
    "# G.add_node(1)\n",
    "# G.add_node(2)\n",
    "# G.add_node(3)\n",
    "\n",
    "# G.add_edge(1,2)\n",
    "# G.add_edge(2,3)\n",
    "\n",
    "gnodes_len = 0\n",
    "\n",
    "while(gnodes_len < 10): \n",
    "    nG = nx.random_geometric_graph(15, 0.2)\n",
    "    G:nx.Graph = nx.subgraph(nG,nx.node_connected_component(nG,1))\n",
    "    gnodes_len = len(G.nodes)\n",
    "\n",
    "bfs_layout = nx.bfs_layout(G,1,align='horizontal',scale=-0.5)\n",
    "for v in G.nodes:\n",
    "    G.nodes.data()[v]['pos'] = bfs_layout[v].tolist()\n",
    "\n",
    "edge_x = []\n",
    "edge_y = []\n",
    "for edge in G.edges():\n",
    "    x0, y0 = G.nodes[edge[0]]['pos']\n",
    "    x1, y1 = G.nodes[edge[1]]['pos']\n",
    "    edge_x.append(x0)\n",
    "    edge_x.append(x1)\n",
    "    edge_x.append(None)\n",
    "    edge_y.append(y0)\n",
    "    edge_y.append(y1)\n",
    "    edge_y.append(None)\n",
    "\n",
    "edge_trace = go.Scatter(\n",
    "    x=edge_x, y=edge_y,\n",
    "    line=dict(width=0.5, color='#888'),\n",
    "    hoverinfo='none',\n",
    "    mode='lines')\n",
    "\n",
    "node_x = []\n",
    "node_y = []\n",
    "node_label_str = []\n",
    "for node in G.nodes():\n",
    "    x, y = G.nodes[node]['pos']\n",
    "    node_x.append(x)\n",
    "    node_y.append(y)\n",
    "    node_label_str.append(str(node))\n",
    "\n",
    "node_trace = go.Scatter(\n",
    "    x=node_x, y=node_y,\n",
    "    mode='markers+text',\n",
    "    text=node_label_str,\n",
    "    textposition='top right',\n",
    "    hoverinfo='none', \n",
    "    marker=go.scatter.Marker(color='black',size=3)\n",
    ")\n",
    "fig = go.Figure(data=[edge_trace, node_trace],\n",
    "             layout=go.Layout(\n",
    "                title=dict(\n",
    "                    font=dict(\n",
    "                        size=5\n",
    "                    )\n",
    "                ),\n",
    "                showlegend=False,\n",
    "                hovermode='closest',\n",
    "                xaxis=dict(showgrid=False, zeroline=False, showticklabels=False),\n",
    "                yaxis=dict(showgrid=False, zeroline=False, showticklabels=False))\n",
    "                )\n",
    "fig.show()"
   ]
  },
  {
   "cell_type": "code",
   "execution_count": null,
   "metadata": {},
   "outputs": [],
   "source": [
    "fig.update_traces(patch={\"x\":newx,\"y\":newy},selector={\"mode\":\"lines\"})"
   ]
  },
  {
   "cell_type": "code",
   "execution_count": null,
   "metadata": {},
   "outputs": [],
   "source": [
    "type(fig.data[0])"
   ]
  },
  {
   "cell_type": "code",
   "execution_count": null,
   "metadata": {},
   "outputs": [],
   "source": [
    "edge_trace"
   ]
  },
  {
   "cell_type": "code",
   "execution_count": null,
   "metadata": {},
   "outputs": [],
   "source": [
    "gro.y"
   ]
  },
  {
   "cell_type": "code",
   "execution_count": null,
   "metadata": {},
   "outputs": [],
   "source": [
    "sct = fig.data[0]"
   ]
  },
  {
   "cell_type": "code",
   "execution_count": null,
   "metadata": {},
   "outputs": [],
   "source": []
  },
  {
   "cell_type": "code",
   "execution_count": null,
   "metadata": {},
   "outputs": [],
   "source": []
  },
  {
   "cell_type": "code",
   "execution_count": null,
   "metadata": {},
   "outputs": [],
   "source": []
  }
 ],
 "metadata": {
  "kernelspec": {
   "display_name": ".venv",
   "language": "python",
   "name": "python3"
  },
  "language_info": {
   "codemirror_mode": {
    "name": "ipython",
    "version": 3
   },
   "file_extension": ".py",
   "mimetype": "text/x-python",
   "name": "python",
   "nbconvert_exporter": "python",
   "pygments_lexer": "ipython3",
   "version": "3.12.3"
  }
 },
 "nbformat": 4,
 "nbformat_minor": 2
}
