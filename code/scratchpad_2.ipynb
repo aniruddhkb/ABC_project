{
 "cells": [
  {
   "cell_type": "code",
   "execution_count": 1,
   "metadata": {},
   "outputs": [
    {
     "data": {
      "text/plain": [
       "\"\\nConditions on the clusters (Y)_s: \\n\\n1, Every v has its r-nbhd completely contained in EXACTLY one cluster. \\n2. Overlap #define as max no' of clusters that contain a single v, less than beta times the beta'th root of n \\n3. For every element in some ker(~) the r-nbhd of that element is contained in ~ .  \\n4. All the kers are disjoint and yet cover the entire set.\\n\\nInvariants through _a single phase_\\n\\n1. All Ys in a phase disjoint. \\n2. All kerZs in a phase disjoint.\\n3. Z can overlap. \\n4. For every element in some ker(~) the r-nbhd of that element is contained in ~ .  \\n5. The union of all Ys is a subset of the union of all kerZs . \\n6. The ker(Z), Z relationship and the ker(Y), Y relationship are maintained -- as well as the Y_s, kerZ_s relationship mentioned above.\\n\\n\""
      ]
     },
     "execution_count": 1,
     "metadata": {},
     "output_type": "execute_result"
    }
   ],
   "source": [
    "'''\n",
    "Conditions on the clusters (Y)_s: \n",
    "\n",
    "1, Every v has its r-nbhd completely contained in EXACTLY one cluster. \n",
    "2. Overlap #define as max no' of clusters that contain a single v, less than beta times the beta'th root of n \n",
    "3. For every element in some ker(~) the r-nbhd of that element is contained in ~ .  \n",
    "4. All the kers are disjoint and yet cover the entire set.\n",
    "\n",
    "Invariants through _a single phase_\n",
    "\n",
    "1. All Ys in a phase disjoint. \n",
    "2. All kerZs in a phase disjoint.\n",
    "3. Z can overlap. \n",
    "4. For every element in some ker(~) the r-nbhd of that element is contained in ~ .  \n",
    "5. The union of all Ys is a subset of the union of all kerZs . \n",
    "6. The ker(Z), Z relationship and the ker(Y), Y relationship are maintained -- as well as the Y_s, kerZ_s relationship mentioned above.\n",
    "\n",
    "'''"
   ]
  },
  {
   "cell_type": "code",
   "execution_count": 2,
   "metadata": {},
   "outputs": [],
   "source": [
    "import sys \n",
    "sys.path.append('./lib') "
   ]
  },
  {
   "cell_type": "code",
   "execution_count": 3,
   "metadata": {},
   "outputs": [],
   "source": [
    "import networkx as nx \n",
    "import plotly.graph_objects as go \n",
    "from lib.graphfig import * \n",
    "from lib.bfs import * \n",
    "from lib.even_shiloach import *"
   ]
  },
  {
   "cell_type": "code",
   "execution_count": 101,
   "metadata": {},
   "outputs": [],
   "source": [
    "def functional_get_cluster(R:set[int],U:set[int],v:int,Y_s:set[set[int]],G:nx.Graph,r:int,beta:int|float):\n",
    "    \n",
    "    n = len(G.nodes)\n",
    "    if len(Y_s) == 0:\n",
    "        G_notin_Y = G.copy()\n",
    "    else:\n",
    "        G_notin_Y = nx.induced_subgraph(G,set(G.nodes)-set.union(*Y_s))\n",
    "    \n",
    "    ker_z = set([v,])\n",
    "    T_z = BFSAlgo(G,ker_z,r)\n",
    "    \n",
    "    z = set(T_z.bfs_graph.nodes)\n",
    "    \n",
    "    for v_z in z:  \n",
    "        assert T_z.bfs_graph.nodes[v_z]['level'] <= r \n",
    "\n",
    "    cluster_iters = 0\n",
    "    while True: \n",
    "        ker_y, y = ker_z.copy(), z.copy()\n",
    "        T_z = BFSAlgo(G_notin_Y,y,2*r)\n",
    "        z = set(T_z.bfs_graph.nodes)\n",
    "        ker_z = set([v for v in U.intersection(z) if  T_z.bfs_graph.nodes[v]['level']  <= r ]) \n",
    "\n",
    "        n_root_beta = n**(1/beta) \n",
    "        lenR_root_beta = len(R)**(1/beta)\n",
    "\n",
    "        A1 = len(z)\n",
    "        A2 = n_root_beta*len(y) \n",
    "        B1 = len(ker_z) \n",
    "        B2 = len(ker_y)*lenR_root_beta\n",
    "        C1 = sum(dict(G.degree(z)).values()) \n",
    "        C2 = sum(dict(G.degree(y)).values())*n_root_beta \n",
    "\n",
    "        # print(\"L3\")\n",
    "        \n",
    "        # print(f\"Cluster Iteration {cluster_iters}:\")\n",
    "        # print(f\"len(z) = {A1}\")\n",
    "        # print(f\"len(y) = {len(y)}\") \n",
    "        # print(f\"A1 = {round(A1,2)}, A2 = {round(A2,2)}, B1 = {round(B1,2)}, B2 = {round(B2,2)}, C1 = {round(C1,2)}, C2 = {round(C2,2)}\\n\\n\")\n",
    "        # yield None \n",
    "        if(A1 <= A2 and B1 <= B2 and C1 <= C2):\n",
    "            # yield True \n",
    "            break \n",
    "        cluster_iters += 1\n",
    "    return (ker_y, y, ker_z, z)"
   ]
  },
  {
   "cell_type": "code",
   "execution_count": null,
   "metadata": {},
   "outputs": [],
   "source": [
    "def functional_get_cover(R:set[int], G:nx.Graph, r:int, beta:int):\n",
    "    U = R.copy() \n",
    "    ker_R = set() \n",
    "    Y_s, Z_s = [], []\n",
    "    i = 0\n",
    "    while len(U) > 0:\n",
    "        print(i, len(U))\n",
    "        i += 1\n",
    "        v = next(iter(U))\n",
    "        ker_y, y, ker_z, z = functional_get_cluster(R,U,v,Y_s,G,r,beta)\n",
    "        ker_R = ker_R.union(ker_z)\n",
    "        U = U.difference(ker_z)\n",
    "        Y_s.append(y)\n",
    "        Z_s.append(z)\n",
    "    return (ker_R, Y_s, Z_s)"
   ]
  },
  {
   "cell_type": "code",
   "execution_count": 184,
   "metadata": {},
   "outputs": [
    {
     "name": "stdout",
     "output_type": "stream",
     "text": [
      "7\n",
      "6\n",
      "5\n",
      "4\n",
      "3\n",
      "2\n",
      "1\n"
     ]
    }
   ],
   "source": [
    "for p_search in reversed(range(1,31)):\n",
    "    \n",
    "    base_graph =  nx.fast_gnp_random_graph(10000,p_search*1e-4)\n",
    "    try:\n",
    "        assert nx.is_connected(base_graph)\n",
    "    except AssertionError:\n",
    "        print(p_search)"
   ]
  },
  {
   "cell_type": "code",
   "execution_count": 103,
   "metadata": {},
   "outputs": [],
   "source": [
    "def get_connected_gnp_graph(n, lower_bound_n, p): \n",
    "    pre_base_graph =  nx.fast_gnp_random_graph(n,p)\n",
    "    cc_nodes_lst = list(nx.connected_components(pre_base_graph))\n",
    "    cc_lens_lst = [len(i) for i in cc_nodes_lst]\n",
    "    idx = cc_lens_lst.index(max(cc_lens_lst)) \n",
    "    base_graph = nx.induced_subgraph(pre_base_graph,cc_nodes_lst[idx]).copy()\n",
    "    try:\n",
    "        assert len(base_graph.nodes) > lower_bound_n\n",
    "    except AssertionError:\n",
    "        print(len(base_graph.nodes)) \n",
    "        print([len(i) for i in nx.connected_components(pre_base_graph)])\n",
    "        raise AssertionError\n",
    "\n",
    "    return base_graph"
   ]
  },
  {
   "cell_type": "code",
   "execution_count": null,
   "metadata": {},
   "outputs": [],
   "source": []
  },
  {
   "cell_type": "code",
   "execution_count": 73,
   "metadata": {},
   "outputs": [
    {
     "data": {
      "text/plain": [
       "[3814]"
      ]
     },
     "execution_count": 73,
     "metadata": {},
     "output_type": "execute_result"
    }
   ],
   "source": [
    "[len(i) for i in list(nx.connected_components(base_graph))]"
   ]
  },
  {
   "cell_type": "code",
   "execution_count": 88,
   "metadata": {},
   "outputs": [],
   "source": [
    "from tqdm import tqdm"
   ]
  },
  {
   "cell_type": "code",
   "execution_count": 91,
   "metadata": {},
   "outputs": [
    {
     "name": "stderr",
     "output_type": "stream",
     "text": [
      "100%|██████████| 100/100 [00:11<00:00,  8.79it/s]\n"
     ]
    }
   ],
   "source": [
    "for _ in tqdm(range(100)):\n",
    "    base_graph = get_connected_gnp_graph(20000,5000,0.00006)"
   ]
  },
  {
   "cell_type": "code",
   "execution_count": 118,
   "metadata": {},
   "outputs": [
    {
     "name": "stdout",
     "output_type": "stream",
     "text": [
      "6134\n",
      "0 6134\n",
      "1 5879\n",
      "2 5662\n",
      "3 5384\n",
      "4 5121\n",
      "5 4175\n",
      "6 4067\n",
      "7 4059\n",
      "8 3885\n",
      "9 3768\n",
      "10 3559\n",
      "11 3377\n"
     ]
    },
    {
     "ename": "KeyboardInterrupt",
     "evalue": "",
     "output_type": "error",
     "traceback": [
      "\u001b[0;31m---------------------------------------------------------------------------\u001b[0m",
      "\u001b[0;31mKeyboardInterrupt\u001b[0m                         Traceback (most recent call last)",
      "Cell \u001b[0;32mIn[118], line 10\u001b[0m\n\u001b[1;32m      8\u001b[0m \u001b[38;5;28mprint\u001b[39m(\u001b[38;5;28mlen\u001b[39m(base_graph\u001b[38;5;241m.\u001b[39mnodes))\n\u001b[1;32m      9\u001b[0m \u001b[38;5;66;03m# out = functional_get_cluster(R,U,v,Y_s,G,r,beta)\u001b[39;00m\n\u001b[0;32m---> 10\u001b[0m out \u001b[38;5;241m=\u001b[39m \u001b[43mfunctional_get_cover\u001b[49m\u001b[43m(\u001b[49m\u001b[43mR\u001b[49m\u001b[43m,\u001b[49m\u001b[43mG\u001b[49m\u001b[43m,\u001b[49m\u001b[43mr\u001b[49m\u001b[43m,\u001b[49m\u001b[43mbeta\u001b[49m\u001b[43m)\u001b[49m\n",
      "Cell \u001b[0;32mIn[106], line 10\u001b[0m, in \u001b[0;36mfunctional_get_cover\u001b[0;34m(R, G, r, beta)\u001b[0m\n\u001b[1;32m      8\u001b[0m i \u001b[38;5;241m+\u001b[39m\u001b[38;5;241m=\u001b[39m \u001b[38;5;241m1\u001b[39m\n\u001b[1;32m      9\u001b[0m v \u001b[38;5;241m=\u001b[39m \u001b[38;5;28mnext\u001b[39m(\u001b[38;5;28miter\u001b[39m(U))\n\u001b[0;32m---> 10\u001b[0m ker_y, y, ker_z, z \u001b[38;5;241m=\u001b[39m \u001b[43mfunctional_get_cluster\u001b[49m\u001b[43m(\u001b[49m\u001b[43mR\u001b[49m\u001b[43m,\u001b[49m\u001b[43mU\u001b[49m\u001b[43m,\u001b[49m\u001b[43mv\u001b[49m\u001b[43m,\u001b[49m\u001b[43mY_s\u001b[49m\u001b[43m,\u001b[49m\u001b[43mG\u001b[49m\u001b[43m,\u001b[49m\u001b[43mr\u001b[49m\u001b[43m,\u001b[49m\u001b[43mbeta\u001b[49m\u001b[43m)\u001b[49m\n\u001b[1;32m     11\u001b[0m ker_R \u001b[38;5;241m=\u001b[39m ker_R\u001b[38;5;241m.\u001b[39munion(ker_z)\n\u001b[1;32m     12\u001b[0m U \u001b[38;5;241m=\u001b[39m U\u001b[38;5;241m.\u001b[39mdifference(ker_z)\n",
      "Cell \u001b[0;32mIn[101], line 20\u001b[0m, in \u001b[0;36mfunctional_get_cluster\u001b[0;34m(R, U, v, Y_s, G, r, beta)\u001b[0m\n\u001b[1;32m     18\u001b[0m \u001b[38;5;28;01mwhile\u001b[39;00m \u001b[38;5;28;01mTrue\u001b[39;00m: \n\u001b[1;32m     19\u001b[0m     ker_y, y \u001b[38;5;241m=\u001b[39m ker_z\u001b[38;5;241m.\u001b[39mcopy(), z\u001b[38;5;241m.\u001b[39mcopy()\n\u001b[0;32m---> 20\u001b[0m     T_z \u001b[38;5;241m=\u001b[39m \u001b[43mBFSAlgo\u001b[49m\u001b[43m(\u001b[49m\u001b[43mG_notin_Y\u001b[49m\u001b[43m,\u001b[49m\u001b[43my\u001b[49m\u001b[43m,\u001b[49m\u001b[38;5;241;43m2\u001b[39;49m\u001b[38;5;241;43m*\u001b[39;49m\u001b[43mr\u001b[49m\u001b[43m)\u001b[49m\n\u001b[1;32m     21\u001b[0m     z \u001b[38;5;241m=\u001b[39m \u001b[38;5;28mset\u001b[39m(T_z\u001b[38;5;241m.\u001b[39mbfs_graph\u001b[38;5;241m.\u001b[39mnodes)\n\u001b[1;32m     22\u001b[0m     ker_z \u001b[38;5;241m=\u001b[39m \u001b[38;5;28mset\u001b[39m([v \u001b[38;5;28;01mfor\u001b[39;00m v \u001b[38;5;129;01min\u001b[39;00m U\u001b[38;5;241m.\u001b[39mintersection(z) \u001b[38;5;28;01mif\u001b[39;00m  T_z\u001b[38;5;241m.\u001b[39mbfs_graph\u001b[38;5;241m.\u001b[39mnodes[v][\u001b[38;5;124m'\u001b[39m\u001b[38;5;124mlevel\u001b[39m\u001b[38;5;124m'\u001b[39m]  \u001b[38;5;241m<\u001b[39m\u001b[38;5;241m=\u001b[39m r ]) \n",
      "File \u001b[0;32m~/Desktop/ABC_project/code/lib/bfs.py:13\u001b[0m, in \u001b[0;36mBFSAlgo.__init__\u001b[0;34m(self, base_graph, start_node_arg, max_level, allowed_node_set)\u001b[0m\n\u001b[1;32m     12\u001b[0m \u001b[38;5;28;01mdef\u001b[39;00m \u001b[38;5;21m__init__\u001b[39m(\u001b[38;5;28mself\u001b[39m, base_graph:nx\u001b[38;5;241m.\u001b[39mGraph, start_node_arg:\u001b[38;5;28mint\u001b[39m\u001b[38;5;241m|\u001b[39m\u001b[38;5;28mlist\u001b[39m[\u001b[38;5;28mint\u001b[39m],max_level:\u001b[38;5;28mint\u001b[39m \u001b[38;5;241m=\u001b[39m \u001b[38;5;28;01mNone\u001b[39;00m, allowed_node_set:\u001b[38;5;28;01mNone\u001b[39;00m\u001b[38;5;241m|\u001b[39m\u001b[38;5;28mset\u001b[39m \u001b[38;5;241m=\u001b[39m \u001b[38;5;28;01mNone\u001b[39;00m):\n\u001b[0;32m---> 13\u001b[0m     \u001b[38;5;28;43msuper\u001b[39;49m\u001b[43m(\u001b[49m\u001b[43m)\u001b[49m\u001b[38;5;241;43m.\u001b[39;49m\u001b[38;5;21;43m__init__\u001b[39;49m\u001b[43m(\u001b[49m\u001b[43mbase_graph\u001b[49m\u001b[43m)\u001b[49m\n\u001b[1;32m     14\u001b[0m     \u001b[38;5;28;01mif\u001b[39;00m \u001b[38;5;28misinstance\u001b[39m(start_node_arg, Iterable):\n\u001b[1;32m     15\u001b[0m         \u001b[38;5;28mself\u001b[39m\u001b[38;5;241m.\u001b[39mmulti \u001b[38;5;241m=\u001b[39m \u001b[38;5;28;01mTrue\u001b[39;00m\n",
      "File \u001b[0;32m~/Desktop/ABC_project/code/lib/graphfig.py:20\u001b[0m, in \u001b[0;36mStatAlgo.__init__\u001b[0;34m(self, base_graph)\u001b[0m\n\u001b[1;32m     19\u001b[0m \u001b[38;5;28;01mdef\u001b[39;00m \u001b[38;5;21m__init__\u001b[39m(\u001b[38;5;28mself\u001b[39m, base_graph:nx\u001b[38;5;241m.\u001b[39mGraph):\n\u001b[0;32m---> 20\u001b[0m     \u001b[38;5;28;01massert\u001b[39;00m \u001b[43mnx\u001b[49m\u001b[38;5;241;43m.\u001b[39;49m\u001b[43mnumber_of_selfloops\u001b[49m\u001b[43m(\u001b[49m\u001b[43mbase_graph\u001b[49m\u001b[43m)\u001b[49m \u001b[38;5;241m==\u001b[39m \u001b[38;5;241m0\u001b[39m, \u001b[38;5;124m'\u001b[39m\u001b[38;5;124mGraph cannot have self loops\u001b[39m\u001b[38;5;124m'\u001b[39m\n\u001b[1;32m     21\u001b[0m     \u001b[38;5;28mself\u001b[39m\u001b[38;5;241m.\u001b[39mbase_graph \u001b[38;5;241m=\u001b[39m base_graph\u001b[38;5;241m.\u001b[39mcopy()\n\u001b[1;32m     22\u001b[0m     \u001b[38;5;28mself\u001b[39m\u001b[38;5;241m.\u001b[39mall_graphs:\u001b[38;5;28mdict\u001b[39m[\u001b[38;5;28mstr\u001b[39m,nx\u001b[38;5;241m.\u001b[39mGraph] \u001b[38;5;241m=\u001b[39m {}\n",
      "File \u001b[0;32m~/.pyenv/versions/3.13.0/lib/python3.13/site-packages/networkx/classes/function.py:1343\u001b[0m, in \u001b[0;36mnumber_of_selfloops\u001b[0;34m(G)\u001b[0m\n\u001b[1;32m   1321\u001b[0m \u001b[38;5;28;01mdef\u001b[39;00m \u001b[38;5;21mnumber_of_selfloops\u001b[39m(G):\n\u001b[1;32m   1322\u001b[0m \u001b[38;5;250m    \u001b[39m\u001b[38;5;124;03m\"\"\"Returns the number of selfloop edges.\u001b[39;00m\n\u001b[1;32m   1323\u001b[0m \n\u001b[1;32m   1324\u001b[0m \u001b[38;5;124;03m    A selfloop edge has the same node at both ends.\u001b[39;00m\n\u001b[0;32m   (...)\u001b[0m\n\u001b[1;32m   1341\u001b[0m \u001b[38;5;124;03m    1\u001b[39;00m\n\u001b[1;32m   1342\u001b[0m \u001b[38;5;124;03m    \"\"\"\u001b[39;00m\n\u001b[0;32m-> 1343\u001b[0m     \u001b[38;5;28;01mreturn\u001b[39;00m \u001b[38;5;28;43msum\u001b[39;49m\u001b[43m(\u001b[49m\u001b[38;5;241;43m1\u001b[39;49m\u001b[43m \u001b[49m\u001b[38;5;28;43;01mfor\u001b[39;49;00m\u001b[43m \u001b[49m\u001b[43m_\u001b[49m\u001b[43m \u001b[49m\u001b[38;5;129;43;01min\u001b[39;49;00m\u001b[43m \u001b[49m\u001b[43mnx\u001b[49m\u001b[38;5;241;43m.\u001b[39;49m\u001b[43mselfloop_edges\u001b[49m\u001b[43m(\u001b[49m\u001b[43mG\u001b[49m\u001b[43m)\u001b[49m\u001b[43m)\u001b[49m\n",
      "File \u001b[0;32m~/.pyenv/versions/3.13.0/lib/python3.13/site-packages/networkx/classes/function.py:1343\u001b[0m, in \u001b[0;36m<genexpr>\u001b[0;34m(.0)\u001b[0m\n\u001b[1;32m   1321\u001b[0m \u001b[38;5;28;01mdef\u001b[39;00m \u001b[38;5;21mnumber_of_selfloops\u001b[39m(G):\n\u001b[1;32m   1322\u001b[0m \u001b[38;5;250m    \u001b[39m\u001b[38;5;124;03m\"\"\"Returns the number of selfloop edges.\u001b[39;00m\n\u001b[1;32m   1323\u001b[0m \n\u001b[1;32m   1324\u001b[0m \u001b[38;5;124;03m    A selfloop edge has the same node at both ends.\u001b[39;00m\n\u001b[0;32m   (...)\u001b[0m\n\u001b[1;32m   1341\u001b[0m \u001b[38;5;124;03m    1\u001b[39;00m\n\u001b[1;32m   1342\u001b[0m \u001b[38;5;124;03m    \"\"\"\u001b[39;00m\n\u001b[0;32m-> 1343\u001b[0m     \u001b[38;5;28;01mreturn\u001b[39;00m \u001b[38;5;28msum\u001b[39m(\u001b[38;5;241m1\u001b[39m \u001b[38;5;28;01mfor\u001b[39;00m _ \u001b[38;5;129;01min\u001b[39;00m nx\u001b[38;5;241m.\u001b[39mselfloop_edges(G))\n",
      "File \u001b[0;32m~/.pyenv/versions/3.13.0/lib/python3.13/site-packages/networkx/classes/function.py:1318\u001b[0m, in \u001b[0;36m<genexpr>\u001b[0;34m(.0)\u001b[0m\n\u001b[1;32m   1311\u001b[0m         \u001b[38;5;28;01mreturn\u001b[39;00m (\n\u001b[1;32m   1312\u001b[0m             (n, n)\n\u001b[1;32m   1313\u001b[0m             \u001b[38;5;28;01mfor\u001b[39;00m n, nbrs \u001b[38;5;129;01min\u001b[39;00m G\u001b[38;5;241m.\u001b[39m_adj\u001b[38;5;241m.\u001b[39mitems()\n\u001b[1;32m   1314\u001b[0m             \u001b[38;5;28;01mif\u001b[39;00m n \u001b[38;5;129;01min\u001b[39;00m nbrs\n\u001b[1;32m   1315\u001b[0m             \u001b[38;5;28;01mfor\u001b[39;00m i \u001b[38;5;129;01min\u001b[39;00m \u001b[38;5;28mrange\u001b[39m(\u001b[38;5;28mlen\u001b[39m(nbrs[n]))  \u001b[38;5;66;03m# for easy edge removal (#4068)\u001b[39;00m\n\u001b[1;32m   1316\u001b[0m         )\n\u001b[1;32m   1317\u001b[0m \u001b[38;5;28;01melse\u001b[39;00m:\n\u001b[0;32m-> 1318\u001b[0m     \u001b[38;5;28;01mreturn\u001b[39;00m ((n, n) \u001b[38;5;28;01mfor\u001b[39;00m n, nbrs \u001b[38;5;129;01min\u001b[39;00m G\u001b[38;5;241m.\u001b[39m_adj\u001b[38;5;241m.\u001b[39mitems() \u001b[38;5;28;01mif\u001b[39;00m n \u001b[38;5;129;01min\u001b[39;00m nbrs)\n",
      "File \u001b[0;32m<frozen _collections_abc>:899\u001b[0m, in \u001b[0;36m__iter__\u001b[0;34m(self)\u001b[0m\n",
      "File \u001b[0;32m~/.pyenv/versions/3.13.0/lib/python3.13/site-packages/networkx/classes/coreviews.py:357\u001b[0m, in \u001b[0;36mFilterAdjacency.__getitem__\u001b[0;34m(self, node)\u001b[0m\n\u001b[1;32m    354\u001b[0m     \u001b[38;5;28;01mdef\u001b[39;00m \u001b[38;5;21mnew_node_ok\u001b[39m(nbr):\n\u001b[1;32m    355\u001b[0m         \u001b[38;5;28;01mreturn\u001b[39;00m \u001b[38;5;28mself\u001b[39m\u001b[38;5;241m.\u001b[39mNODE_OK(nbr) \u001b[38;5;129;01mand\u001b[39;00m \u001b[38;5;28mself\u001b[39m\u001b[38;5;241m.\u001b[39mEDGE_OK(node, nbr)\n\u001b[0;32m--> 357\u001b[0m     \u001b[38;5;28;01mreturn\u001b[39;00m \u001b[43mFilterAtlas\u001b[49m\u001b[43m(\u001b[49m\u001b[38;5;28;43mself\u001b[39;49m\u001b[38;5;241;43m.\u001b[39;49m\u001b[43m_atlas\u001b[49m\u001b[43m[\u001b[49m\u001b[43mnode\u001b[49m\u001b[43m]\u001b[49m\u001b[43m,\u001b[49m\u001b[43m \u001b[49m\u001b[43mnew_node_ok\u001b[49m\u001b[43m)\u001b[49m\n\u001b[1;32m    358\u001b[0m \u001b[38;5;28;01mraise\u001b[39;00m \u001b[38;5;167;01mKeyError\u001b[39;00m(\u001b[38;5;124mf\u001b[39m\u001b[38;5;124m\"\u001b[39m\u001b[38;5;124mKey \u001b[39m\u001b[38;5;132;01m{\u001b[39;00mnode\u001b[38;5;132;01m}\u001b[39;00m\u001b[38;5;124m not found\u001b[39m\u001b[38;5;124m\"\u001b[39m)\n",
      "File \u001b[0;32m~/.pyenv/versions/3.13.0/lib/python3.13/site-packages/networkx/classes/coreviews.py:280\u001b[0m, in \u001b[0;36mFilterAtlas.__init__\u001b[0;34m(self, d, NODE_OK)\u001b[0m\n\u001b[1;32m    267\u001b[0m \u001b[38;5;28;01mclass\u001b[39;00m \u001b[38;5;21;01mFilterAtlas\u001b[39;00m(Mapping):  \u001b[38;5;66;03m# nodedict, nbrdict, keydict\u001b[39;00m\n\u001b[1;32m    268\u001b[0m \u001b[38;5;250m    \u001b[39m\u001b[38;5;124;03m\"\"\"A read-only Mapping of Mappings with filtering criteria for nodes.\u001b[39;00m\n\u001b[1;32m    269\u001b[0m \n\u001b[1;32m    270\u001b[0m \u001b[38;5;124;03m    It is a view into a dict-of-dict data structure, and it selects only\u001b[39;00m\n\u001b[0;32m   (...)\u001b[0m\n\u001b[1;32m    277\u001b[0m \u001b[38;5;124;03m    FilterMultiAdjacency\u001b[39;00m\n\u001b[1;32m    278\u001b[0m \u001b[38;5;124;03m    \"\"\"\u001b[39;00m\n\u001b[0;32m--> 280\u001b[0m     \u001b[38;5;28;01mdef\u001b[39;00m \u001b[38;5;21m__init__\u001b[39m(\u001b[38;5;28mself\u001b[39m, d, NODE_OK):\n\u001b[1;32m    281\u001b[0m         \u001b[38;5;28mself\u001b[39m\u001b[38;5;241m.\u001b[39m_atlas \u001b[38;5;241m=\u001b[39m d\n\u001b[1;32m    282\u001b[0m         \u001b[38;5;28mself\u001b[39m\u001b[38;5;241m.\u001b[39mNODE_OK \u001b[38;5;241m=\u001b[39m NODE_OK\n",
      "\u001b[0;31mKeyboardInterrupt\u001b[0m: "
     ]
    }
   ],
   "source": [
    "R = set(base_graph.nodes)\n",
    "U = R.copy()\n",
    "v = random.choice(list(base_graph.nodes))\n",
    "Y_s = []\n",
    "G = base_graph\n",
    "r = 4\n",
    "beta = 4\n",
    "print(len(base_graph.nodes))\n",
    "# out = functional_get_cluster(R,U,v,Y_s,G,r,beta)\n",
    "out = functional_get_cover(R,G,r,beta)"
   ]
  },
  {
   "cell_type": "code",
   "execution_count": 116,
   "metadata": {},
   "outputs": [],
   "source": [
    "def functional_get_cover_all(G,r,beta): \n",
    "    R = set(G.nodes)\n",
    "    CHI = []\n",
    "    while len(R) > 0:\n",
    "        ker_R, Y_s, Z_s =  functional_get_cover(R,G,r,beta)\n",
    "        CHI.extend(Y_s)\n",
    "        R = R.difference(ker_R)\n",
    "    return CHI"
   ]
  },
  {
   "cell_type": "code",
   "execution_count": 119,
   "metadata": {},
   "outputs": [
    {
     "name": "stdout",
     "output_type": "stream",
     "text": [
      "0 6134\n",
      "1 5879\n",
      "2 5662\n",
      "3 5384\n",
      "4 5121\n",
      "5 4175\n",
      "6 4067\n",
      "7 4059\n",
      "8 3885\n",
      "9 3768\n",
      "10 3559\n",
      "11 3377\n",
      "12 2187\n",
      "13 2100\n",
      "14 2077\n",
      "15 2029\n",
      "16 2026\n",
      "17 2020\n",
      "18 1971\n",
      "19 1890\n",
      "20 1840\n",
      "21 1768\n",
      "22 1712\n",
      "23 1617\n",
      "24 1564\n",
      "25 1560\n",
      "26 1554\n",
      "27 1541\n",
      "28 1504\n",
      "29 1489\n",
      "30 1414\n",
      "31 1400\n",
      "32 1399\n",
      "33 1353\n",
      "34 1277\n",
      "35 1240\n",
      "36 1234\n",
      "37 1186\n",
      "38 1109\n",
      "39 1105\n",
      "40 1088\n",
      "41 1083\n",
      "42 1048\n",
      "43 1009\n",
      "44 977\n",
      "45 933\n",
      "46 918\n",
      "47 916\n",
      "48 838\n",
      "49 831\n",
      "50 828\n",
      "51 823\n",
      "52 789\n",
      "53 785\n",
      "54 768\n",
      "55 738\n",
      "56 703\n",
      "57 669\n",
      "58 667\n",
      "59 621\n",
      "60 620\n",
      "61 546\n",
      "62 543\n",
      "63 527\n",
      "64 483\n",
      "65 477\n",
      "66 458\n",
      "67 457\n",
      "68 413\n",
      "69 407\n",
      "70 388\n",
      "71 385\n",
      "72 356\n",
      "73 348\n",
      "74 343\n",
      "75 326\n",
      "76 318\n",
      "77 310\n",
      "78 307\n",
      "79 300\n",
      "80 298\n",
      "81 293\n",
      "82 292\n",
      "83 280\n",
      "84 272\n",
      "85 261\n",
      "86 256\n",
      "87 219\n",
      "88 215\n",
      "89 204\n",
      "90 191\n",
      "91 186\n",
      "92 181\n",
      "93 165\n",
      "94 163\n",
      "95 146\n",
      "96 145\n",
      "97 133\n",
      "98 130\n",
      "99 129\n",
      "100 126\n",
      "101 119\n",
      "102 117\n",
      "103 112\n",
      "104 107\n",
      "105 103\n",
      "106 98\n",
      "107 88\n",
      "108 86\n",
      "109 80\n",
      "110 76\n",
      "111 67\n",
      "112 65\n",
      "113 63\n",
      "114 60\n",
      "115 57\n",
      "116 56\n",
      "117 55\n",
      "118 52\n",
      "119 50\n",
      "120 46\n",
      "121 39\n",
      "122 38\n",
      "123 37\n",
      "124 33\n",
      "125 30\n",
      "126 26\n",
      "127 25\n",
      "128 24\n",
      "129 21\n",
      "130 17\n",
      "131 16\n",
      "132 13\n",
      "133 9\n",
      "134 7\n",
      "135 6\n",
      "136 4\n",
      "137 2\n",
      "138 1\n"
     ]
    }
   ],
   "source": [
    "CHI = functional_get_cover_all(base_graph,r,beta)"
   ]
  },
  {
   "cell_type": "code",
   "execution_count": null,
   "metadata": {},
   "outputs": [],
   "source": []
  },
  {
   "cell_type": "code",
   "execution_count": 108,
   "metadata": {},
   "outputs": [],
   "source": [
    "ker_R, Y_s, Z_s = out "
   ]
  },
  {
   "cell_type": "code",
   "execution_count": 111,
   "metadata": {},
   "outputs": [],
   "source": [
    "from itertools import product"
   ]
  },
  {
   "cell_type": "code",
   "execution_count": 112,
   "metadata": {},
   "outputs": [
    {
     "name": "stderr",
     "output_type": "stream",
     "text": [
      "17956it [00:00, 1569051.91it/s]\n"
     ]
    }
   ],
   "source": [
    "for y_1, y_2 in tqdm(product(Y_s,Y_s)): \n",
    "    assert isinstance(y_1,set) and isinstance(y_2,set) \n",
    "    if not (y_1 is y_2): \n",
    "        assert y_1.isdisjoint(y_2)"
   ]
  },
  {
   "cell_type": "code",
   "execution_count": 115,
   "metadata": {},
   "outputs": [
    {
     "data": {
      "text/plain": [
       "134"
      ]
     },
     "execution_count": 115,
     "metadata": {},
     "output_type": "execute_result"
    }
   ],
   "source": [
    "len(Y_s)"
   ]
  },
  {
   "cell_type": "code",
   "execution_count": null,
   "metadata": {},
   "outputs": [],
   "source": []
  }
 ],
 "metadata": {
  "kernelspec": {
   "display_name": "3.13.0",
   "language": "python",
   "name": "python3"
  },
  "language_info": {
   "codemirror_mode": {
    "name": "ipython",
    "version": 3
   },
   "file_extension": ".py",
   "mimetype": "text/x-python",
   "name": "python",
   "nbconvert_exporter": "python",
   "pygments_lexer": "ipython3",
   "version": "3.13.0"
  }
 },
 "nbformat": 4,
 "nbformat_minor": 2
}
