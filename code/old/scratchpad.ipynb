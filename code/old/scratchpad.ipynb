{
 "cells": [
  {
   "cell_type": "code",
   "execution_count": null,
   "metadata": {},
   "outputs": [
    {
     "data": {
      "application/vnd.plotly.v1+json": {
       "config": {
        "plotlyServerURL": "https://plot.ly"
       },
       "data": [
        {
         "customdata": [
          "0_108"
         ],
         "hovertemplate": "%{customdata}",
         "marker": {
          "color": "blue",
          "size": 10
         },
         "mode": "markers+text",
         "name": "0",
         "text": "0",
         "textposition": "top right",
         "type": "scatter",
         "x": [
          0.2731979326639645
         ],
         "y": [
          0.5089479436355723
         ]
        },
        {
         "customdata": [
          "1_109"
         ],
         "hovertemplate": "%{customdata}",
         "marker": {
          "color": "blue",
          "size": 10
         },
         "mode": "markers+text",
         "name": "1",
         "text": "1",
         "textposition": "top right",
         "type": "scatter",
         "x": [
          0.9486645036462623
         ],
         "y": [
          0.6556870151979396
         ]
        },
        {
         "customdata": [
          "2_108"
         ],
         "hovertemplate": "%{customdata}",
         "marker": {
          "color": "red",
          "size": 10
         },
         "mode": "markers+text",
         "name": "2",
         "text": "2",
         "textposition": "top right",
         "type": "scatter",
         "x": [
          0.6275031704688558
         ],
         "y": [
          0.7282781360560907
         ]
        },
        {
         "customdata": [
          "3_109"
         ],
         "hovertemplate": "%{customdata}",
         "marker": {
          "color": "green",
          "size": 10
         },
         "mode": "markers+text",
         "name": "3",
         "text": "3",
         "textposition": "top right",
         "type": "scatter",
         "x": [
          0.4665812879471388
         ],
         "y": [
          0.4432379789516496
         ]
        },
        {
         "customdata": [
          "4_109"
         ],
         "hovertemplate": "%{customdata}",
         "marker": {
          "color": "green",
          "size": 10
         },
         "mode": "markers+text",
         "name": "4",
         "text": "4",
         "textposition": "top right",
         "type": "scatter",
         "x": [
          0.320278758860038
         ],
         "y": [
          0.46509059156408405
         ]
        },
        {
         "customdata": [
          "5_107"
         ],
         "hovertemplate": "%{customdata}",
         "marker": {
          "color": "green",
          "size": 10
         },
         "mode": "markers+text",
         "name": "5",
         "text": "5",
         "textposition": "top right",
         "type": "scatter",
         "x": [
          0.33256011138577524
         ],
         "y": [
          0.8516464251856447
         ]
        },
        {
         "customdata": [
          "6_100"
         ],
         "hovertemplate": "%{customdata}",
         "marker": {
          "color": "red",
          "size": 10
         },
         "mode": "markers+text",
         "name": "6",
         "text": "6",
         "textposition": "top right",
         "type": "scatter",
         "x": [
          0.05016975338898555
         ],
         "y": [
          0.9286170330592933
         ]
        },
        {
         "customdata": [
          "7_105"
         ],
         "hovertemplate": "%{customdata}",
         "marker": {
          "color": "blue",
          "size": 10
         },
         "mode": "markers+text",
         "name": "7",
         "text": "7",
         "textposition": "top right",
         "type": "scatter",
         "x": [
          0.7045700281326331
         ],
         "y": [
          0.585889411315785
         ]
        },
        {
         "customdata": [
          "8_103"
         ],
         "hovertemplate": "%{customdata}",
         "marker": {
          "color": "red",
          "size": 10
         },
         "mode": "markers+text",
         "name": "8",
         "text": "8",
         "textposition": "top right",
         "type": "scatter",
         "x": [
          0.4733435603934478
         ],
         "y": [
          0.9838263923256169
         ]
        },
        {
         "customdata": [
          "9_105"
         ],
         "hovertemplate": "%{customdata}",
         "marker": {
          "color": "red",
          "size": 10
         },
         "mode": "markers+text",
         "name": "9",
         "text": "9",
         "textposition": "top right",
         "type": "scatter",
         "x": [
          0.8613633997899038
         ],
         "y": [
          0.4287766478402786
         ]
        },
        {
         "hoverinfo": "none",
         "line": {
          "color": "blue",
          "width": 0.5
         },
         "mode": "lines",
         "name": "0_1",
         "type": "scatter",
         "x": [
          0.2731979326639645,
          0.9486645036462623
         ],
         "y": [
          0.5089479436355723,
          0.6556870151979396
         ]
        },
        {
         "hoverinfo": "none",
         "line": {
          "color": "blue",
          "width": 0.5
         },
         "mode": "lines",
         "name": "0_2",
         "type": "scatter",
         "x": [
          0.2731979326639645,
          0.6275031704688558
         ],
         "y": [
          0.5089479436355723,
          0.7282781360560907
         ]
        },
        {
         "hoverinfo": "none",
         "line": {
          "color": "blue",
          "width": 0.5
         },
         "mode": "lines",
         "name": "0_3",
         "type": "scatter",
         "x": [
          0.2731979326639645,
          0.4665812879471388
         ],
         "y": [
          0.5089479436355723,
          0.4432379789516496
         ]
        },
        {
         "hoverinfo": "none",
         "line": {
          "color": "blue",
          "width": 0.5
         },
         "mode": "lines",
         "name": "0_4",
         "type": "scatter",
         "x": [
          0.2731979326639645,
          0.320278758860038
         ],
         "y": [
          0.5089479436355723,
          0.46509059156408405
         ]
        },
        {
         "hoverinfo": "none",
         "line": {
          "color": "blue",
          "width": 0.5
         },
         "mode": "lines",
         "name": "0_5",
         "type": "scatter",
         "x": [
          0.2731979326639645,
          0.33256011138577524
         ],
         "y": [
          0.5089479436355723,
          0.8516464251856447
         ]
        },
        {
         "hoverinfo": "none",
         "line": {
          "color": "blue",
          "width": 0.5
         },
         "mode": "lines",
         "name": "0_6",
         "type": "scatter",
         "x": [
          0.2731979326639645,
          0.05016975338898555
         ],
         "y": [
          0.5089479436355723,
          0.9286170330592933
         ]
        },
        {
         "hoverinfo": "none",
         "line": {
          "color": "blue",
          "width": 0.5
         },
         "mode": "lines",
         "name": "0_7",
         "type": "scatter",
         "x": [
          0.2731979326639645,
          0.7045700281326331
         ],
         "y": [
          0.5089479436355723,
          0.585889411315785
         ]
        },
        {
         "hoverinfo": "none",
         "line": {
          "color": "blue",
          "width": 0.5
         },
         "mode": "lines",
         "name": "0_8",
         "type": "scatter",
         "x": [
          0.2731979326639645,
          0.4733435603934478
         ],
         "y": [
          0.5089479436355723,
          0.9838263923256169
         ]
        },
        {
         "hoverinfo": "none",
         "line": {
          "color": "blue",
          "width": 0.5
         },
         "mode": "lines",
         "name": "0_9",
         "type": "scatter",
         "x": [
          0.2731979326639645,
          0.8613633997899038
         ],
         "y": [
          0.5089479436355723,
          0.4287766478402786
         ]
        },
        {
         "hoverinfo": "none",
         "line": {
          "color": "blue",
          "width": 0.5
         },
         "mode": "lines",
         "name": "1_2",
         "type": "scatter",
         "x": [
          0.9486645036462623,
          0.6275031704688558
         ],
         "y": [
          0.6556870151979396,
          0.7282781360560907
         ]
        },
        {
         "hoverinfo": "none",
         "line": {
          "color": "blue",
          "width": 0.5
         },
         "mode": "lines",
         "name": "1_3",
         "type": "scatter",
         "x": [
          0.9486645036462623,
          0.4665812879471388
         ],
         "y": [
          0.6556870151979396,
          0.4432379789516496
         ]
        },
        {
         "hoverinfo": "none",
         "line": {
          "color": "blue",
          "width": 0.5
         },
         "mode": "lines",
         "name": "1_4",
         "type": "scatter",
         "x": [
          0.9486645036462623,
          0.320278758860038
         ],
         "y": [
          0.6556870151979396,
          0.46509059156408405
         ]
        },
        {
         "hoverinfo": "none",
         "line": {
          "color": "blue",
          "width": 0.5
         },
         "mode": "lines",
         "name": "1_5",
         "type": "scatter",
         "x": [
          0.9486645036462623,
          0.33256011138577524
         ],
         "y": [
          0.6556870151979396,
          0.8516464251856447
         ]
        },
        {
         "hoverinfo": "none",
         "line": {
          "color": "blue",
          "width": 0.5
         },
         "mode": "lines",
         "name": "1_6",
         "type": "scatter",
         "x": [
          0.9486645036462623,
          0.05016975338898555
         ],
         "y": [
          0.6556870151979396,
          0.9286170330592933
         ]
        },
        {
         "hoverinfo": "none",
         "line": {
          "color": "blue",
          "width": 0.5
         },
         "mode": "lines",
         "name": "1_7",
         "type": "scatter",
         "x": [
          0.9486645036462623,
          0.7045700281326331
         ],
         "y": [
          0.6556870151979396,
          0.585889411315785
         ]
        },
        {
         "hoverinfo": "none",
         "line": {
          "color": "blue",
          "width": 0.5
         },
         "mode": "lines",
         "name": "1_8",
         "type": "scatter",
         "x": [
          0.9486645036462623,
          0.4733435603934478
         ],
         "y": [
          0.6556870151979396,
          0.9838263923256169
         ]
        },
        {
         "hoverinfo": "none",
         "line": {
          "color": "blue",
          "width": 0.5
         },
         "mode": "lines",
         "name": "1_9",
         "type": "scatter",
         "x": [
          0.9486645036462623,
          0.8613633997899038
         ],
         "y": [
          0.6556870151979396,
          0.4287766478402786
         ]
        },
        {
         "hoverinfo": "none",
         "line": {
          "color": "blue",
          "width": 0.5
         },
         "mode": "lines",
         "name": "2_3",
         "type": "scatter",
         "x": [
          0.6275031704688558,
          0.4665812879471388
         ],
         "y": [
          0.7282781360560907,
          0.4432379789516496
         ]
        },
        {
         "hoverinfo": "none",
         "line": {
          "color": "blue",
          "width": 0.5
         },
         "mode": "lines",
         "name": "2_4",
         "type": "scatter",
         "x": [
          0.6275031704688558,
          0.320278758860038
         ],
         "y": [
          0.7282781360560907,
          0.46509059156408405
         ]
        },
        {
         "hoverinfo": "none",
         "line": {
          "color": "blue",
          "width": 0.5
         },
         "mode": "lines",
         "name": "2_5",
         "type": "scatter",
         "x": [
          0.6275031704688558,
          0.33256011138577524
         ],
         "y": [
          0.7282781360560907,
          0.8516464251856447
         ]
        },
        {
         "hoverinfo": "none",
         "line": {
          "color": "blue",
          "width": 0.5
         },
         "mode": "lines",
         "name": "2_6",
         "type": "scatter",
         "x": [
          0.6275031704688558,
          0.05016975338898555
         ],
         "y": [
          0.7282781360560907,
          0.9286170330592933
         ]
        },
        {
         "hoverinfo": "none",
         "line": {
          "color": "blue",
          "width": 0.5
         },
         "mode": "lines",
         "name": "2_7",
         "type": "scatter",
         "x": [
          0.6275031704688558,
          0.7045700281326331
         ],
         "y": [
          0.7282781360560907,
          0.585889411315785
         ]
        },
        {
         "hoverinfo": "none",
         "line": {
          "color": "blue",
          "width": 0.5
         },
         "mode": "lines",
         "name": "2_8",
         "type": "scatter",
         "x": [
          0.6275031704688558,
          0.4733435603934478
         ],
         "y": [
          0.7282781360560907,
          0.9838263923256169
         ]
        },
        {
         "hoverinfo": "none",
         "line": {
          "color": "blue",
          "width": 0.5
         },
         "mode": "lines",
         "name": "2_9",
         "type": "scatter",
         "x": [
          0.6275031704688558,
          0.8613633997899038
         ],
         "y": [
          0.7282781360560907,
          0.4287766478402786
         ]
        },
        {
         "hoverinfo": "none",
         "line": {
          "color": "blue",
          "width": 0.5
         },
         "mode": "lines",
         "name": "3_4",
         "type": "scatter",
         "x": [
          0.4665812879471388,
          0.320278758860038
         ],
         "y": [
          0.4432379789516496,
          0.46509059156408405
         ]
        },
        {
         "hoverinfo": "none",
         "line": {
          "color": "blue",
          "width": 0.5
         },
         "mode": "lines",
         "name": "3_5",
         "type": "scatter",
         "x": [
          0.4665812879471388,
          0.33256011138577524
         ],
         "y": [
          0.4432379789516496,
          0.8516464251856447
         ]
        },
        {
         "hoverinfo": "none",
         "line": {
          "color": "blue",
          "width": 0.5
         },
         "mode": "lines",
         "name": "3_6",
         "type": "scatter",
         "x": [
          0.4665812879471388,
          0.05016975338898555
         ],
         "y": [
          0.4432379789516496,
          0.9286170330592933
         ]
        },
        {
         "hoverinfo": "none",
         "line": {
          "color": "blue",
          "width": 0.5
         },
         "mode": "lines",
         "name": "3_7",
         "type": "scatter",
         "x": [
          0.4665812879471388,
          0.7045700281326331
         ],
         "y": [
          0.4432379789516496,
          0.585889411315785
         ]
        },
        {
         "hoverinfo": "none",
         "line": {
          "color": "blue",
          "width": 0.5
         },
         "mode": "lines",
         "name": "3_8",
         "type": "scatter",
         "x": [
          0.4665812879471388,
          0.4733435603934478
         ],
         "y": [
          0.4432379789516496,
          0.9838263923256169
         ]
        },
        {
         "hoverinfo": "none",
         "line": {
          "color": "blue",
          "width": 0.5
         },
         "mode": "lines",
         "name": "3_9",
         "type": "scatter",
         "x": [
          0.4665812879471388,
          0.8613633997899038
         ],
         "y": [
          0.4432379789516496,
          0.4287766478402786
         ]
        },
        {
         "hoverinfo": "none",
         "line": {
          "color": "blue",
          "width": 0.5
         },
         "mode": "lines",
         "name": "4_5",
         "type": "scatter",
         "x": [
          0.320278758860038,
          0.33256011138577524
         ],
         "y": [
          0.46509059156408405,
          0.8516464251856447
         ]
        },
        {
         "hoverinfo": "none",
         "line": {
          "color": "blue",
          "width": 0.5
         },
         "mode": "lines",
         "name": "4_6",
         "type": "scatter",
         "x": [
          0.320278758860038,
          0.05016975338898555
         ],
         "y": [
          0.46509059156408405,
          0.9286170330592933
         ]
        },
        {
         "hoverinfo": "none",
         "line": {
          "color": "blue",
          "width": 0.5
         },
         "mode": "lines",
         "name": "4_7",
         "type": "scatter",
         "x": [
          0.320278758860038,
          0.7045700281326331
         ],
         "y": [
          0.46509059156408405,
          0.585889411315785
         ]
        },
        {
         "hoverinfo": "none",
         "line": {
          "color": "blue",
          "width": 0.5
         },
         "mode": "lines",
         "name": "4_8",
         "type": "scatter",
         "x": [
          0.320278758860038,
          0.4733435603934478
         ],
         "y": [
          0.46509059156408405,
          0.9838263923256169
         ]
        },
        {
         "hoverinfo": "none",
         "line": {
          "color": "blue",
          "width": 0.5
         },
         "mode": "lines",
         "name": "4_9",
         "type": "scatter",
         "x": [
          0.320278758860038,
          0.8613633997899038
         ],
         "y": [
          0.46509059156408405,
          0.4287766478402786
         ]
        },
        {
         "hoverinfo": "none",
         "line": {
          "color": "blue",
          "width": 0.5
         },
         "mode": "lines",
         "name": "5_6",
         "type": "scatter",
         "x": [
          0.33256011138577524,
          0.05016975338898555
         ],
         "y": [
          0.8516464251856447,
          0.9286170330592933
         ]
        },
        {
         "hoverinfo": "none",
         "line": {
          "color": "blue",
          "width": 0.5
         },
         "mode": "lines",
         "name": "5_7",
         "type": "scatter",
         "x": [
          0.33256011138577524,
          0.7045700281326331
         ],
         "y": [
          0.8516464251856447,
          0.585889411315785
         ]
        },
        {
         "hoverinfo": "none",
         "line": {
          "color": "blue",
          "width": 0.5
         },
         "mode": "lines",
         "name": "5_8",
         "type": "scatter",
         "x": [
          0.33256011138577524,
          0.4733435603934478
         ],
         "y": [
          0.8516464251856447,
          0.9838263923256169
         ]
        },
        {
         "hoverinfo": "none",
         "line": {
          "color": "blue",
          "width": 0.5
         },
         "mode": "lines",
         "name": "5_9",
         "type": "scatter",
         "x": [
          0.33256011138577524,
          0.8613633997899038
         ],
         "y": [
          0.8516464251856447,
          0.4287766478402786
         ]
        },
        {
         "hoverinfo": "none",
         "line": {
          "color": "blue",
          "width": 0.5
         },
         "mode": "lines",
         "name": "6_7",
         "type": "scatter",
         "x": [
          0.05016975338898555,
          0.7045700281326331
         ],
         "y": [
          0.9286170330592933,
          0.585889411315785
         ]
        },
        {
         "hoverinfo": "none",
         "line": {
          "color": "blue",
          "width": 0.5
         },
         "mode": "lines",
         "name": "6_8",
         "type": "scatter",
         "x": [
          0.05016975338898555,
          0.4733435603934478
         ],
         "y": [
          0.9286170330592933,
          0.9838263923256169
         ]
        },
        {
         "hoverinfo": "none",
         "line": {
          "color": "blue",
          "width": 0.5
         },
         "mode": "lines",
         "name": "6_9",
         "type": "scatter",
         "x": [
          0.05016975338898555,
          0.8613633997899038
         ],
         "y": [
          0.9286170330592933,
          0.4287766478402786
         ]
        },
        {
         "hoverinfo": "none",
         "line": {
          "color": "blue",
          "width": 0.5
         },
         "mode": "lines",
         "name": "7_8",
         "type": "scatter",
         "x": [
          0.7045700281326331,
          0.4733435603934478
         ],
         "y": [
          0.585889411315785,
          0.9838263923256169
         ]
        },
        {
         "hoverinfo": "none",
         "line": {
          "color": "blue",
          "width": 0.5
         },
         "mode": "lines",
         "name": "7_9",
         "type": "scatter",
         "x": [
          0.7045700281326331,
          0.8613633997899038
         ],
         "y": [
          0.585889411315785,
          0.4287766478402786
         ]
        },
        {
         "hoverinfo": "none",
         "line": {
          "color": "blue",
          "width": 0.5
         },
         "mode": "lines",
         "name": "8_9",
         "type": "scatter",
         "x": [
          0.4733435603934478,
          0.8613633997899038
         ],
         "y": [
          0.9838263923256169,
          0.4287766478402786
         ]
        }
       ],
       "layout": {
        "hovermode": "closest",
        "showlegend": false,
        "template": {
         "data": {
          "bar": [
           {
            "error_x": {
             "color": "#2a3f5f"
            },
            "error_y": {
             "color": "#2a3f5f"
            },
            "marker": {
             "line": {
              "color": "#E5ECF6",
              "width": 0.5
             },
             "pattern": {
              "fillmode": "overlay",
              "size": 10,
              "solidity": 0.2
             }
            },
            "type": "bar"
           }
          ],
          "barpolar": [
           {
            "marker": {
             "line": {
              "color": "#E5ECF6",
              "width": 0.5
             },
             "pattern": {
              "fillmode": "overlay",
              "size": 10,
              "solidity": 0.2
             }
            },
            "type": "barpolar"
           }
          ],
          "carpet": [
           {
            "aaxis": {
             "endlinecolor": "#2a3f5f",
             "gridcolor": "white",
             "linecolor": "white",
             "minorgridcolor": "white",
             "startlinecolor": "#2a3f5f"
            },
            "baxis": {
             "endlinecolor": "#2a3f5f",
             "gridcolor": "white",
             "linecolor": "white",
             "minorgridcolor": "white",
             "startlinecolor": "#2a3f5f"
            },
            "type": "carpet"
           }
          ],
          "choropleth": [
           {
            "colorbar": {
             "outlinewidth": 0,
             "ticks": ""
            },
            "type": "choropleth"
           }
          ],
          "contour": [
           {
            "colorbar": {
             "outlinewidth": 0,
             "ticks": ""
            },
            "colorscale": [
             [
              0,
              "#0d0887"
             ],
             [
              0.1111111111111111,
              "#46039f"
             ],
             [
              0.2222222222222222,
              "#7201a8"
             ],
             [
              0.3333333333333333,
              "#9c179e"
             ],
             [
              0.4444444444444444,
              "#bd3786"
             ],
             [
              0.5555555555555556,
              "#d8576b"
             ],
             [
              0.6666666666666666,
              "#ed7953"
             ],
             [
              0.7777777777777778,
              "#fb9f3a"
             ],
             [
              0.8888888888888888,
              "#fdca26"
             ],
             [
              1,
              "#f0f921"
             ]
            ],
            "type": "contour"
           }
          ],
          "contourcarpet": [
           {
            "colorbar": {
             "outlinewidth": 0,
             "ticks": ""
            },
            "type": "contourcarpet"
           }
          ],
          "heatmap": [
           {
            "colorbar": {
             "outlinewidth": 0,
             "ticks": ""
            },
            "colorscale": [
             [
              0,
              "#0d0887"
             ],
             [
              0.1111111111111111,
              "#46039f"
             ],
             [
              0.2222222222222222,
              "#7201a8"
             ],
             [
              0.3333333333333333,
              "#9c179e"
             ],
             [
              0.4444444444444444,
              "#bd3786"
             ],
             [
              0.5555555555555556,
              "#d8576b"
             ],
             [
              0.6666666666666666,
              "#ed7953"
             ],
             [
              0.7777777777777778,
              "#fb9f3a"
             ],
             [
              0.8888888888888888,
              "#fdca26"
             ],
             [
              1,
              "#f0f921"
             ]
            ],
            "type": "heatmap"
           }
          ],
          "heatmapgl": [
           {
            "colorbar": {
             "outlinewidth": 0,
             "ticks": ""
            },
            "colorscale": [
             [
              0,
              "#0d0887"
             ],
             [
              0.1111111111111111,
              "#46039f"
             ],
             [
              0.2222222222222222,
              "#7201a8"
             ],
             [
              0.3333333333333333,
              "#9c179e"
             ],
             [
              0.4444444444444444,
              "#bd3786"
             ],
             [
              0.5555555555555556,
              "#d8576b"
             ],
             [
              0.6666666666666666,
              "#ed7953"
             ],
             [
              0.7777777777777778,
              "#fb9f3a"
             ],
             [
              0.8888888888888888,
              "#fdca26"
             ],
             [
              1,
              "#f0f921"
             ]
            ],
            "type": "heatmapgl"
           }
          ],
          "histogram": [
           {
            "marker": {
             "pattern": {
              "fillmode": "overlay",
              "size": 10,
              "solidity": 0.2
             }
            },
            "type": "histogram"
           }
          ],
          "histogram2d": [
           {
            "colorbar": {
             "outlinewidth": 0,
             "ticks": ""
            },
            "colorscale": [
             [
              0,
              "#0d0887"
             ],
             [
              0.1111111111111111,
              "#46039f"
             ],
             [
              0.2222222222222222,
              "#7201a8"
             ],
             [
              0.3333333333333333,
              "#9c179e"
             ],
             [
              0.4444444444444444,
              "#bd3786"
             ],
             [
              0.5555555555555556,
              "#d8576b"
             ],
             [
              0.6666666666666666,
              "#ed7953"
             ],
             [
              0.7777777777777778,
              "#fb9f3a"
             ],
             [
              0.8888888888888888,
              "#fdca26"
             ],
             [
              1,
              "#f0f921"
             ]
            ],
            "type": "histogram2d"
           }
          ],
          "histogram2dcontour": [
           {
            "colorbar": {
             "outlinewidth": 0,
             "ticks": ""
            },
            "colorscale": [
             [
              0,
              "#0d0887"
             ],
             [
              0.1111111111111111,
              "#46039f"
             ],
             [
              0.2222222222222222,
              "#7201a8"
             ],
             [
              0.3333333333333333,
              "#9c179e"
             ],
             [
              0.4444444444444444,
              "#bd3786"
             ],
             [
              0.5555555555555556,
              "#d8576b"
             ],
             [
              0.6666666666666666,
              "#ed7953"
             ],
             [
              0.7777777777777778,
              "#fb9f3a"
             ],
             [
              0.8888888888888888,
              "#fdca26"
             ],
             [
              1,
              "#f0f921"
             ]
            ],
            "type": "histogram2dcontour"
           }
          ],
          "mesh3d": [
           {
            "colorbar": {
             "outlinewidth": 0,
             "ticks": ""
            },
            "type": "mesh3d"
           }
          ],
          "parcoords": [
           {
            "line": {
             "colorbar": {
              "outlinewidth": 0,
              "ticks": ""
             }
            },
            "type": "parcoords"
           }
          ],
          "pie": [
           {
            "automargin": true,
            "type": "pie"
           }
          ],
          "scatter": [
           {
            "fillpattern": {
             "fillmode": "overlay",
             "size": 10,
             "solidity": 0.2
            },
            "type": "scatter"
           }
          ],
          "scatter3d": [
           {
            "line": {
             "colorbar": {
              "outlinewidth": 0,
              "ticks": ""
             }
            },
            "marker": {
             "colorbar": {
              "outlinewidth": 0,
              "ticks": ""
             }
            },
            "type": "scatter3d"
           }
          ],
          "scattercarpet": [
           {
            "marker": {
             "colorbar": {
              "outlinewidth": 0,
              "ticks": ""
             }
            },
            "type": "scattercarpet"
           }
          ],
          "scattergeo": [
           {
            "marker": {
             "colorbar": {
              "outlinewidth": 0,
              "ticks": ""
             }
            },
            "type": "scattergeo"
           }
          ],
          "scattergl": [
           {
            "marker": {
             "colorbar": {
              "outlinewidth": 0,
              "ticks": ""
             }
            },
            "type": "scattergl"
           }
          ],
          "scattermapbox": [
           {
            "marker": {
             "colorbar": {
              "outlinewidth": 0,
              "ticks": ""
             }
            },
            "type": "scattermapbox"
           }
          ],
          "scatterpolar": [
           {
            "marker": {
             "colorbar": {
              "outlinewidth": 0,
              "ticks": ""
             }
            },
            "type": "scatterpolar"
           }
          ],
          "scatterpolargl": [
           {
            "marker": {
             "colorbar": {
              "outlinewidth": 0,
              "ticks": ""
             }
            },
            "type": "scatterpolargl"
           }
          ],
          "scatterternary": [
           {
            "marker": {
             "colorbar": {
              "outlinewidth": 0,
              "ticks": ""
             }
            },
            "type": "scatterternary"
           }
          ],
          "surface": [
           {
            "colorbar": {
             "outlinewidth": 0,
             "ticks": ""
            },
            "colorscale": [
             [
              0,
              "#0d0887"
             ],
             [
              0.1111111111111111,
              "#46039f"
             ],
             [
              0.2222222222222222,
              "#7201a8"
             ],
             [
              0.3333333333333333,
              "#9c179e"
             ],
             [
              0.4444444444444444,
              "#bd3786"
             ],
             [
              0.5555555555555556,
              "#d8576b"
             ],
             [
              0.6666666666666666,
              "#ed7953"
             ],
             [
              0.7777777777777778,
              "#fb9f3a"
             ],
             [
              0.8888888888888888,
              "#fdca26"
             ],
             [
              1,
              "#f0f921"
             ]
            ],
            "type": "surface"
           }
          ],
          "table": [
           {
            "cells": {
             "fill": {
              "color": "#EBF0F8"
             },
             "line": {
              "color": "white"
             }
            },
            "header": {
             "fill": {
              "color": "#C8D4E3"
             },
             "line": {
              "color": "white"
             }
            },
            "type": "table"
           }
          ]
         },
         "layout": {
          "annotationdefaults": {
           "arrowcolor": "#2a3f5f",
           "arrowhead": 0,
           "arrowwidth": 1
          },
          "autotypenumbers": "strict",
          "coloraxis": {
           "colorbar": {
            "outlinewidth": 0,
            "ticks": ""
           }
          },
          "colorscale": {
           "diverging": [
            [
             0,
             "#8e0152"
            ],
            [
             0.1,
             "#c51b7d"
            ],
            [
             0.2,
             "#de77ae"
            ],
            [
             0.3,
             "#f1b6da"
            ],
            [
             0.4,
             "#fde0ef"
            ],
            [
             0.5,
             "#f7f7f7"
            ],
            [
             0.6,
             "#e6f5d0"
            ],
            [
             0.7,
             "#b8e186"
            ],
            [
             0.8,
             "#7fbc41"
            ],
            [
             0.9,
             "#4d9221"
            ],
            [
             1,
             "#276419"
            ]
           ],
           "sequential": [
            [
             0,
             "#0d0887"
            ],
            [
             0.1111111111111111,
             "#46039f"
            ],
            [
             0.2222222222222222,
             "#7201a8"
            ],
            [
             0.3333333333333333,
             "#9c179e"
            ],
            [
             0.4444444444444444,
             "#bd3786"
            ],
            [
             0.5555555555555556,
             "#d8576b"
            ],
            [
             0.6666666666666666,
             "#ed7953"
            ],
            [
             0.7777777777777778,
             "#fb9f3a"
            ],
            [
             0.8888888888888888,
             "#fdca26"
            ],
            [
             1,
             "#f0f921"
            ]
           ],
           "sequentialminus": [
            [
             0,
             "#0d0887"
            ],
            [
             0.1111111111111111,
             "#46039f"
            ],
            [
             0.2222222222222222,
             "#7201a8"
            ],
            [
             0.3333333333333333,
             "#9c179e"
            ],
            [
             0.4444444444444444,
             "#bd3786"
            ],
            [
             0.5555555555555556,
             "#d8576b"
            ],
            [
             0.6666666666666666,
             "#ed7953"
            ],
            [
             0.7777777777777778,
             "#fb9f3a"
            ],
            [
             0.8888888888888888,
             "#fdca26"
            ],
            [
             1,
             "#f0f921"
            ]
           ]
          },
          "colorway": [
           "#636efa",
           "#EF553B",
           "#00cc96",
           "#ab63fa",
           "#FFA15A",
           "#19d3f3",
           "#FF6692",
           "#B6E880",
           "#FF97FF",
           "#FECB52"
          ],
          "font": {
           "color": "#2a3f5f"
          },
          "geo": {
           "bgcolor": "white",
           "lakecolor": "white",
           "landcolor": "#E5ECF6",
           "showlakes": true,
           "showland": true,
           "subunitcolor": "white"
          },
          "hoverlabel": {
           "align": "left"
          },
          "hovermode": "closest",
          "mapbox": {
           "style": "light"
          },
          "paper_bgcolor": "white",
          "plot_bgcolor": "#E5ECF6",
          "polar": {
           "angularaxis": {
            "gridcolor": "white",
            "linecolor": "white",
            "ticks": ""
           },
           "bgcolor": "#E5ECF6",
           "radialaxis": {
            "gridcolor": "white",
            "linecolor": "white",
            "ticks": ""
           }
          },
          "scene": {
           "xaxis": {
            "backgroundcolor": "#E5ECF6",
            "gridcolor": "white",
            "gridwidth": 2,
            "linecolor": "white",
            "showbackground": true,
            "ticks": "",
            "zerolinecolor": "white"
           },
           "yaxis": {
            "backgroundcolor": "#E5ECF6",
            "gridcolor": "white",
            "gridwidth": 2,
            "linecolor": "white",
            "showbackground": true,
            "ticks": "",
            "zerolinecolor": "white"
           },
           "zaxis": {
            "backgroundcolor": "#E5ECF6",
            "gridcolor": "white",
            "gridwidth": 2,
            "linecolor": "white",
            "showbackground": true,
            "ticks": "",
            "zerolinecolor": "white"
           }
          },
          "shapedefaults": {
           "line": {
            "color": "#2a3f5f"
           }
          },
          "ternary": {
           "aaxis": {
            "gridcolor": "white",
            "linecolor": "white",
            "ticks": ""
           },
           "baxis": {
            "gridcolor": "white",
            "linecolor": "white",
            "ticks": ""
           },
           "bgcolor": "#E5ECF6",
           "caxis": {
            "gridcolor": "white",
            "linecolor": "white",
            "ticks": ""
           }
          },
          "title": {
           "x": 0.05
          },
          "xaxis": {
           "automargin": true,
           "gridcolor": "white",
           "linecolor": "white",
           "ticks": "",
           "title": {
            "standoff": 15
           },
           "zerolinecolor": "white",
           "zerolinewidth": 2
          },
          "yaxis": {
           "automargin": true,
           "gridcolor": "white",
           "linecolor": "white",
           "ticks": "",
           "title": {
            "standoff": 15
           },
           "zerolinecolor": "white",
           "zerolinewidth": 2
          }
         }
        },
        "title": {
         "font": {
          "size": 5
         }
        },
        "xaxis": {
         "showgrid": false,
         "showticklabels": false,
         "zeroline": false
        },
        "yaxis": {
         "showgrid": false,
         "showticklabels": false,
         "zeroline": false
        }
       }
      }
     },
     "metadata": {},
     "output_type": "display_data"
    }
   ],
   "source": [
    "import plotly.graph_objects as go \n",
    "import random\n",
    "\n",
    "from dash import Dash, html, dcc, Input, Output, callback\n",
    "import time\n",
    "\n",
    "import networkx as nx\n",
    "from tqdm import tqdm \n",
    "\n",
    "EDGE_WIDTH = 0.5\n",
    "NODE_SIZE = 10\n",
    "\n",
    "G = nx.random_geometric_graph(10, 1)\n",
    "nx_layout = nx.spring_layout(G)\n",
    "\n",
    "nodes_vis_data = {}\n",
    "edges_vis_data = {}\n",
    "\n",
    "nx_nodes = G.nodes \n",
    "nx_nodes_data = G.nodes.data()\n",
    "\n",
    "nx_edges = G.edges \n",
    "nx_edges_data = G.edges.data()\n",
    "\n",
    "colors = ['red','green','blue']\n",
    "rrange = (0,len(colors)-1)\n",
    "random.randint(*rrange)\n",
    "for i in nx_nodes:\n",
    "    curr_nx_node_data = nx_nodes_data[i]\n",
    "    stri = str(i)\n",
    "    curr_node_vis_data = {\n",
    "        'name':stri,\n",
    "        'x': curr_nx_node_data['pos'][0],\n",
    "        'y': curr_nx_node_data['pos'][1],\n",
    "        'color':colors[random.randint(*rrange)],\n",
    "        'hoverinfo':None,\n",
    "        'hovertext':stri + '_' + str(random.randint(100,110)),\n",
    "    }\n",
    "    nodes_vis_data[stri]=curr_node_vis_data\n",
    "\n",
    "for j in nx_edges:\n",
    "    u, v = min(j), max(j)\n",
    "    assert u != v \n",
    "    u_dt, v_dt = nx_nodes_data[u],nx_nodes_data[v]\n",
    "    edge_id = f'{u}_{v}'\n",
    "    u_x, u_y = u_dt['pos']\n",
    "    v_x, v_y = v_dt['pos']\n",
    "    curr_edge_vis_data = {\n",
    "        \"name\":edge_id,\n",
    "        'x':(u_x,v_x),\n",
    "        'y':(u_y,v_y),\n",
    "        'color':'blue',\n",
    "    }\n",
    "    edges_vis_data[edge_id] = curr_edge_vis_data\n",
    "\n",
    "traces = []\n",
    "for i in nodes_vis_data:\n",
    "    node_dt = nodes_vis_data[i]\n",
    "    \n",
    "    node_trace = go.Scatter(\n",
    "        x=[node_dt['x'],], y=[node_dt['y'],],\n",
    "        mode='markers+text',\n",
    "        text=node_dt['name'],\n",
    "        name=node_dt['name'],\n",
    "        textposition='top right',\n",
    "        customdata=[node_dt[\"hovertext\"],],\n",
    "        hoverinfo=node_dt[\"hoverinfo\"],\n",
    "        hovertemplate='%{customdata}', \n",
    "        marker=go.scatter.Marker(color=node_dt[\"color\"],size=NODE_SIZE)\n",
    "    )\n",
    "\n",
    "    traces.append(node_trace)\n",
    "  \n",
    "for edge_id in edges_vis_data:\n",
    "    edge_dt = edges_vis_data[edge_id]\n",
    "    \n",
    "    edge_trace = go.Scatter(\n",
    "        x=edge_dt['x'], y=edge_dt['y'],\n",
    "        name=edge_dt['name'],\n",
    "        line=dict(width=EDGE_WIDTH, color=edge_dt['color']), \n",
    "        mode='lines',\n",
    "        hoverinfo='none',\n",
    "    )\n",
    "    traces.append(edge_trace)\n",
    "\n",
    "fig = go.Figure(data=traces,\n",
    "             layout=go.Layout(\n",
    "                title=dict(\n",
    "                    font=dict(\n",
    "                        size=5\n",
    "                    )\n",
    "                ),\n",
    "                showlegend=False,\n",
    "                hovermode='closest',\n",
    "                xaxis=dict(showgrid=False, zeroline=False, showticklabels=False),\n",
    "                yaxis=dict(showgrid=False, zeroline=False, showticklabels=False))\n",
    "                )\n",
    "fig.show()"
   ]
  },
  {
   "cell_type": "code",
   "execution_count": null,
   "metadata": {},
   "outputs": [],
   "source": []
  },
  {
   "cell_type": "code",
   "execution_count": null,
   "metadata": {},
   "outputs": [],
   "source": []
  }
 ],
 "metadata": {
  "kernelspec": {
   "display_name": ".venv",
   "language": "python",
   "name": "python3"
  },
  "language_info": {
   "codemirror_mode": {
    "name": "ipython",
    "version": 3
   },
   "file_extension": ".py",
   "mimetype": "text/x-python",
   "name": "python",
   "nbconvert_exporter": "python",
   "pygments_lexer": "ipython3",
   "version": "3.12.3"
  }
 },
 "nbformat": 4,
 "nbformat_minor": 2
}
